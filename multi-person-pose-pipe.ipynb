{
 "cells": [
  {
   "cell_type": "markdown",
   "metadata": {},
   "source": [
    "## KÜTÜPHANELERİMİZİ YÜKLÜYORUZ"
   ]
  },
  {
   "cell_type": "code",
   "execution_count": 2,
   "metadata": {},
   "outputs": [],
   "source": [
    "import tensorflow as tf\n",
    "import cv2\n",
    "import numpy as np"
   ]
  },
  {
   "cell_type": "markdown",
   "metadata": {},
   "source": [
    "## GPU KULLANIYORSAK, GPU'YU ÇAĞIRIYORUZ"
   ]
  },
  {
   "cell_type": "code",
   "execution_count": 3,
   "metadata": {},
   "outputs": [],
   "source": [
    "#gpu kullanıyorsanız isteğe bağlı BEN KULLANMIYORUM\n",
    "gpus=tf.config.experimental.list_logical_devices('GPU') #fiziksel cihazlardan CPU yu getirtiyoruz.\n",
    "for gpu in gpus:  #Döngü ile gpu hafızası oldukça gpu yu kullandırtıyoruz.  \n",
    "    tf.config.experimental.set_memory_growth(gpu,True)\n"
   ]
  },
  {
   "cell_type": "markdown",
   "metadata": {},
   "source": [
    "## MODELİ TANITIYORUZ"
   ]
  },
  {
   "cell_type": "code",
   "execution_count": 4,
   "metadata": {},
   "outputs": [],
   "source": [
    "from keras.models import load_model #model yükleme kütüphanemizi çağırıyoruz.\n",
    "model= tf.saved_model.load('model') #Modelimizin yolunu veriyoruz\n",
    "movenet=model.signatures['serving_default'] #varsayılan modelin imzasını belirterek, girdi ve çıktıları belirliyoruz.\n"
   ]
  },
  {
   "cell_type": "markdown",
   "metadata": {},
   "source": [
    "## KENARLARI ÇİZİYORUZ"
   ]
  },
  {
   "cell_type": "code",
   "execution_count": 5,
   "metadata": {},
   "outputs": [],
   "source": [
    "#0 Burun\n",
    "#1 Sol göz\n",
    "#2 Sağ göz \n",
    "#3 sol kulak\n",
    "#4 sağ kulak\n",
    "#5 sol omuz\n",
    "#6 sağ omuz\n",
    "#7 sol dirsek\n",
    "#8 sağ dirsek\n",
    "#9 sol bilek\n",
    "#10 sağ bilek\n",
    "#11 sol kalça\n",
    "#12 sağ kalça\n",
    "#13 sol diz\n",
    "#14 sağ diz\n",
    "#15 sol ayak bileği\n",
    "#16 sağ ayak bileği\n",
    "\n",
    "EDGES = {\n",
    "    (0, 1): 'm', \n",
    "    (0, 2): 'c',\n",
    "    (1, 3): 'm',\n",
    "    (2, 4): 'c',\n",
    "    (0, 5): 'm',\n",
    "    (0, 6): 'c',\n",
    "    (5, 7): 'm',\n",
    "    (7, 9): 'm',\n",
    "    (6, 8): 'c',\n",
    "    (8, 10): 'c',\n",
    "    (5, 6): 'y',\n",
    "    (5, 11): 'm',\n",
    "    (6, 12): 'c',\n",
    "    (11, 12): 'y',\n",
    "    (11, 13): 'm',\n",
    "    (13, 15): 'm',\n",
    "    (12, 14): 'c',\n",
    "    (14, 16): 'c'\n",
    "}"
   ]
  },
  {
   "cell_type": "markdown",
   "metadata": {},
   "source": [
    "## BAĞLANTILARI ÇİZİYORUZ"
   ]
  },
  {
   "cell_type": "code",
   "execution_count": 6,
   "metadata": {},
   "outputs": [],
   "source": [
    "def draw_connections(frame, keypoints, edges, confidence_threshold):\n",
    "    y, x, c = frame.shape\n",
    "    shaped = np.squeeze(np.multiply(keypoints, [y,x,1]))\n",
    "    \n",
    "    for edge, color in edges.items():\n",
    "        p1, p2 = edge\n",
    "        y1, x1, c1 = shaped[p1]\n",
    "        y2, x2, c2 = shaped[p2]\n",
    "        \n",
    "        if (c1 > confidence_threshold) & (c2 > confidence_threshold):      \n",
    "            cv2.line(frame, (int(x1), int(y1)), (int(x2), int(y2)), (0,0,255), 4)"
   ]
  },
  {
   "cell_type": "markdown",
   "metadata": {},
   "source": [
    "## ANAHTAR NOKTALARI ÇİZİYORUZ"
   ]
  },
  {
   "cell_type": "code",
   "execution_count": 7,
   "metadata": {},
   "outputs": [],
   "source": [
    "def draw_keypoints(frame, keypoints, confidence_threshold): #Anahtar nokta çizme fonksiyonumuza frame, anahtar nokta, güven değeri(Nokta değerleri) bilgilerini veriyoruz.\n",
    "    y, x, c = frame.shape\n",
    "    shaped = np.squeeze(np.multiply(keypoints, [y,x,1]))\n",
    "    \n",
    "    for kp in shaped:\n",
    "        ky, kx, kp_conf = kp\n",
    "        if kp_conf > confidence_threshold:\n",
    "            cv2.circle(frame, (int(kx), int(ky)), 6, (0,255,0), -1)"
   ]
  },
  {
   "cell_type": "code",
   "execution_count": 8,
   "metadata": {},
   "outputs": [],
   "source": [
    "#işlev, algılanan ve işlenen her kişi arasında döngü oluşturur\n",
    "def loop_through_people(frame,keypoints_with_scores,edges, confidence_threshold):\n",
    "    for person in keypoints_with_scores:\n",
    "        draw_connections(frame,person,edges, confidence_threshold)\n",
    "        draw_keypoints(frame, person, confidence_threshold)"
   ]
  },
  {
   "cell_type": "markdown",
   "metadata": {},
   "source": [
    "## VİDEO ÖLÇÜ AYARI"
   ]
  },
  {
   "cell_type": "markdown",
   "metadata": {},
   "source": [
    "Yükseklik/genişlik her ikisi de 32'nin katıdır.\n",
    "\n",
    "Yükseklik-genişlik oranı, orijinal görüntünün en-boy oranını kapatmak için yakın (ve yeterlidir).\n",
    "\n",
    "Büyük kenarı 256 yapın (hız/doğruluk gereksinimlerine göre bunu ayarlamanız gerekir). Örneğin, 720p bir görüntü (örn. 720x1280 (YxG)) yeniden boyutlandırılmalı ve 160x256 görüntüye doldurulmalıdır."
   ]
  },
  {
   "cell_type": "markdown",
   "metadata": {},
   "source": [
    "## KENDİ KAMERAMIZDA DENİYORUZ"
   ]
  },
  {
   "cell_type": "code",
   "execution_count": 17,
   "metadata": {},
   "outputs": [],
   "source": [
    "cap= cv2.VideoCapture(0) #Kendi kameramızı tanıtıyoruz.\n",
    "while cap.isOpened(): #While ile döngü içine alıp sürekli çalışmasını sağlıyoruz. Kendi kameramız sürekli açık iken aşağıdaki işlemleri yaptırıyoruz.\n",
    "    ret, frame=cap.read() #kameradan okunan veriyi, dönen veri ve frame olarak belirliyoruz.\n",
    "    #resize image \n",
    "    img= frame.copy() #Frame'imizin kopyasını alıyoruz ve tespit yapıpı ölçülendirmek için kullanıyoruz.\n",
    "    img=tf.image.resize_with_pad(tf.expand_dims(img,axis=0),192,256) #model 32 bit olduğu için 32 nin katlarını ölçü olarak kullanıyor.\n",
    "                                                                     #Model ölçüsünü ne kadar büyütürsek, hafızayı o kadar çok kullanır.\n",
    "    input_img = tf.cast(img, dtype=tf.int32) #32 bite dönüştürüyoruz.\n",
    "\n",
    "    #Detection section\n",
    "    results=movenet(input_img) #32 bitlik verimizi movenet() fonksiyonumuzun içine alıp , bunu sonuç olarak tanımlıyoruz.\n",
    "    keypoints_with_scores=results['output_0'].numpy()[:,:,:51].reshape((6,17,3)) #Anahtar noktaları nupmy ile diziye alıp, results daki 51 verinin hepsini alıyoruz.\n",
    "                                  #Reshape ile 6 insan alacağını 17 anahtar nokta alacağını, her anahtar için 3 değer alacağını belirliyoruz.\n",
    "    \n",
    "    #rendeer keypoints\n",
    "    loop_through_people(frame, keypoints_with_scores, EDGES, 0.2)\n",
    "    \n",
    "    cv2.imshow('Movenet Multipose Detection', frame) #Çerçeve başlığımızı belirliyoruz.\n",
    "\n",
    "    if cv2.waitKey(10) & 0xFF==ord('q'): #Q tuşuna 10ms basılınca döngünün bitmesini ayarlıyoruz.\n",
    "        break #Döngüyü kırma\n",
    "cap.release() #Video ile işimizin bittiğini, videonun serbest bırakılmasını belirtiyoruz.\n",
    "cv2.destroyAllWindows() #Bütün ekranda Dosyamızın kapatılmasını gösteriyoruz."
   ]
  },
  {
   "cell_type": "markdown",
   "metadata": {},
   "source": [
    "## VİDEO ÜZERİNDEN DENİYORUZ"
   ]
  },
  {
   "cell_type": "code",
   "execution_count": 25,
   "metadata": {},
   "outputs": [],
   "source": [
    "import cv2\n",
    "import tensorflow as tf\n",
    "\n",
    "# Video yakalama\n",
    "cap = cv2.VideoCapture(\"hiker.mov\")\n",
    "\n",
    "# Yeni boyut değerleri\n",
    "new_width = 1920  # Yeni genişlik değeri\n",
    "new_height = 1080  # Yeni yükseklik değeri\n",
    "\n",
    "while cap.isOpened():\n",
    "    ret, frame = cap.read()\n",
    "\n",
    "    # Görüntüyü yeniden boyutlandırma\n",
    "    resized_frame = cv2.resize(frame, (new_width, new_height))\n",
    "\n",
    "    img = resized_frame.copy()\n",
    "    img = tf.image.resize_with_pad(tf.expand_dims(img, axis=0), 352, 640)\n",
    "    input_img = tf.cast(img, dtype=tf.int32)\n",
    "\n",
    "    # Detection bölümü (bu kısmı değiştirmemeniz gerekebilir)\n",
    "    results = movenet(input_img)\n",
    "    keypoints_with_scores = results['output_0'].numpy()[:, :, :51].reshape((6, 17, 3))\n",
    "\n",
    "    # Anahtar nokta ayarları (bu kısmı değiştirmemeniz gerekebilir)\n",
    "    loop_through_people(resized_frame, keypoints_with_scores, EDGES, 0.2)\n",
    "\n",
    "    cv2.imshow('Movenet Multipose Detection', resized_frame)\n",
    "\n",
    "    if cv2.waitKey(10) & 0xFF == ord('q'):\n",
    "        break\n",
    "\n",
    "cap.release()\n",
    "cv2.destroyAllWindows()\n"
   ]
  }
 ],
 "metadata": {
  "kernelspec": {
   "display_name": "Python 3.10.5 64-bit",
   "language": "python",
   "name": "python3"
  },
  "language_info": {
   "codemirror_mode": {
    "name": "ipython",
    "version": 3
   },
   "file_extension": ".py",
   "mimetype": "text/x-python",
   "name": "python",
   "nbconvert_exporter": "python",
   "pygments_lexer": "ipython3",
   "version": "3.10.5"
  },
  "orig_nbformat": 4,
  "vscode": {
   "interpreter": {
    "hash": "77166de1c351ea371dae0ccf672aa0a3558769c714b5389e36a0c264c40ed330"
   }
  }
 },
 "nbformat": 4,
 "nbformat_minor": 2
}
